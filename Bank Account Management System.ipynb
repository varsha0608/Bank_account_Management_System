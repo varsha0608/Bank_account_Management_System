{
 "cells": [
  {
   "cell_type": "code",
   "execution_count": 3,
   "id": "098ff82d-0f5d-4da1-8302-d238ec17ecc5",
   "metadata": {},
   "outputs": [
    {
     "name": "stdout",
     "output_type": "stream",
     "text": [
      "Welcome to the Bank Account Management System!\n"
     ]
    },
    {
     "name": "stdin",
     "output_type": "stream",
     "text": [
      "Enter account holder's name:  Anonymous\n",
      "Enter initial balance:  10000\n"
     ]
    },
    {
     "name": "stdout",
     "output_type": "stream",
     "text": [
      "\n",
      "Options:\n",
      "1. Deposit Money\n",
      "2. Withdraw Money\n",
      "3. Check Balance\n",
      "4. Exit\n"
     ]
    },
    {
     "name": "stdin",
     "output_type": "stream",
     "text": [
      "Choose an option (1-4):  1\n",
      "Enter amount to deposit:  5000\n"
     ]
    },
    {
     "name": "stdout",
     "output_type": "stream",
     "text": [
      "Successfully deposited $5000.0. New balance: $15000.0.\n",
      "\n",
      "Options:\n",
      "1. Deposit Money\n",
      "2. Withdraw Money\n",
      "3. Check Balance\n",
      "4. Exit\n"
     ]
    },
    {
     "name": "stdin",
     "output_type": "stream",
     "text": [
      "Choose an option (1-4):  2\n",
      "Enter amount to withdraw:  2000\n",
      "Choose an option (1-4):  \n"
     ]
    },
    {
     "name": "stdout",
     "output_type": "stream",
     "text": [
      "Successfully withdrew $2000.0. New balance: $13000.0.\n",
      "\n",
      "Options:\n",
      "1. Deposit Money\n",
      "2. Withdraw Money\n",
      "3. Check Balance\n",
      "4. Exit\n",
      "Invalid option. Please choose again.\n",
      "\n",
      "Options:\n",
      "1. Deposit Money\n",
      "2. Withdraw Money\n",
      "3. Check Balance\n",
      "4. Exit\n"
     ]
    },
    {
     "name": "stdin",
     "output_type": "stream",
     "text": [
      "Choose an option (1-4):  3\n"
     ]
    },
    {
     "name": "stdout",
     "output_type": "stream",
     "text": [
      "Anonymous, your current balance is: $13000.0.\n",
      "\n",
      "Options:\n",
      "1. Deposit Money\n",
      "2. Withdraw Money\n",
      "3. Check Balance\n",
      "4. Exit\n"
     ]
    },
    {
     "name": "stdin",
     "output_type": "stream",
     "text": [
      "Choose an option (1-4):  4\n"
     ]
    },
    {
     "name": "stdout",
     "output_type": "stream",
     "text": [
      "Thank you for using the Bank Account Management System!\n"
     ]
    }
   ],
   "source": [
    "class BankAccount:\n",
    "    def __init__(self, account_holder, initial_balance=0):\n",
    "        self.account_holder = account_holder\n",
    "        self.balance = initial_balance\n",
    "\n",
    "    def deposit(self, amount):\n",
    "        if amount > 0:\n",
    "            self.balance += amount\n",
    "            print(f\"Successfully deposited ${amount}. New balance: ${self.balance}.\")\n",
    "        else:\n",
    "            print(\"Deposit amount must be positive.\")\n",
    "\n",
    "    def withdraw(self, amount):\n",
    "        if amount <= 0:\n",
    "            print(\"Withdrawal amount must be positive.\")\n",
    "        elif amount > self.balance:\n",
    "            print(\"Insufficient funds.\")\n",
    "        else:\n",
    "            self.balance -= amount\n",
    "            print(f\"Successfully withdrew ${amount}. New balance: ${self.balance}.\")\n",
    "\n",
    "    def check_balance(self):\n",
    "        print(f\"{self.account_holder}, your current balance is: ${self.balance}.\")\n",
    "\n",
    "\n",
    "def main():\n",
    "    print(\"Welcome to the Bank Account Management System!\")\n",
    "    \n",
    "    name = input(\"Enter account holder's name: \")\n",
    "    initial_balance = float(input(\"Enter initial balance: \"))\n",
    "    \n",
    "    account = BankAccount(name, initial_balance)\n",
    "    \n",
    "    while True:\n",
    "        print(\"\\nOptions:\")\n",
    "        print(\"1. Deposit Money\")\n",
    "        print(\"2. Withdraw Money\")\n",
    "        print(\"3. Check Balance\")\n",
    "        print(\"4. Exit\")\n",
    "        \n",
    "        choice = input(\"Choose an option (1-4): \")\n",
    "        \n",
    "        if choice == '1':\n",
    "            deposit_amount = float(input(\"Enter amount to deposit: \"))\n",
    "            account.deposit(deposit_amount)\n",
    "        elif choice == '2':\n",
    "            withdraw_amount = float(input(\"Enter amount to withdraw: \"))\n",
    "            account.withdraw(withdraw_amount)\n",
    "        elif choice == '3':\n",
    "            account.check_balance()\n",
    "        elif choice == '4':\n",
    "            print(\"Thank you for using the Bank Account Management System!\")\n",
    "            break\n",
    "        else:\n",
    "            print(\"Invalid option. Please choose again.\")\n",
    "\n",
    "if __name__ == \"__main__\":\n",
    "    main()\n"
   ]
  },
  {
   "cell_type": "code",
   "execution_count": null,
   "id": "1d5272f2-fd15-466e-8f1a-5491f2dd6a79",
   "metadata": {},
   "outputs": [],
   "source": []
  }
 ],
 "metadata": {
  "kernelspec": {
   "display_name": "Python 3 (ipykernel)",
   "language": "python",
   "name": "python3"
  },
  "language_info": {
   "codemirror_mode": {
    "name": "ipython",
    "version": 3
   },
   "file_extension": ".py",
   "mimetype": "text/x-python",
   "name": "python",
   "nbconvert_exporter": "python",
   "pygments_lexer": "ipython3",
   "version": "3.12.4"
  }
 },
 "nbformat": 4,
 "nbformat_minor": 5
}
